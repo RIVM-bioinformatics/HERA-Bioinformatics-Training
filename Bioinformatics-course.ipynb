{
  "cells": [
    {
      "cell_type": "markdown",
      "metadata": {
        "id": "q5K9sTeb7pT4"
      },
      "source": [
        "# HERA Bioinformatics training\n",
        "\n",
        "Hi!\n",
        "\n",
        "Welcome to the hands-on course part of the HERA bioinformatics training.\n",
        "\n",
        "Before getting started, underneath this text you'll see a button with the text \"*Show code*\" with a play-button next to it.  \n",
        "Please click that play button now, it will install and configure everything necessary for this course. \n",
        "\n",
        "Installation will take about 5~6 minutes.  \n",
        "Once a block of code is finished with running, a small green checkmark will appear left next to the play-button.\n",
        "\n",
        "<u>**Please do not close or refresh the page while going through this course, doing so will cause your progression to be lost.**</u>\n",
        "\n",
        "\n",
        "---"
      ]
    },
    {
      "cell_type": "code",
      "execution_count": null,
      "metadata": {
        "cellView": "form",
        "id": "gOcC9i9o7pT_"
      },
      "outputs": [],
      "source": [
        "#@title\n",
        "!pip install igv-jupyter --quiet > /dev/null 2>&1\n",
        "!sed -i -e '1,2d' ~/.bashrc && source ~/.bashrc && bash -c \"$(curl -sL https://raw.githubusercontent.com/RIVM-bioinformatics/HERA-Bioinformatics-Training/main/setup.sh)\""
      ]
    },
    {
      "cell_type": "markdown",
      "source": [
        "---\n",
        "### About the dataset(s)\n",
        "The data that is analyzed throughout this course is publicly accessible data downloaded from the ENA (European Nucleotide Archive).  \n",
        "The data that will be processed are raw FastQ reads both from an Illumina MiSeq sequencer as well as a Nanopore GridIon sequencer.  \n",
        "The following Illumina dataset will be used:\n",
        "https://www.ebi.ac.uk/ena/browser/view/ERR4082808?show=reads  \n",
        "And the following Nanopore dataset will be used: https://www.ebi.ac.uk/ena/browser/view/ERR9900947?show=reads  \n",
        "\n",
        "### About the analysis steps in this course\n",
        "\n",
        "The analysis steps in this course are tailored for the analysis of SARS-CoV-2.  \n",
        "These steps are based on the **SARS2seq** pipeline which is used for SARS-CoV-2 analysis within the RIVM. These various steps *can* be used to analyse other viruses as well, but success is not guaranteed.  \n",
        "\n",
        "\n"
      ],
      "metadata": {
        "id": "JlmE3wMdM_bc"
      }
    },
    {
      "cell_type": "markdown",
      "metadata": {
        "id": "Ok5vRnFpZ_OI"
      },
      "source": [
        "## Table of contents\n",
        "\n",
        "1. [Removing sequencing adapters & quality control](#scrollTo=O2yVf3BatvPS)\n",
        "  * [Illumina data](#scrollTo=me1ujCj_gye6)\n",
        "  * [Nanopore data](#scrollTo=kwlVA4aZjBzZ)\n",
        "2. [Removing primer sequences](#scrollTo=4mdhoST_S2qp)\n",
        "  * [Illumina data](#scrollTo=Ny9R7bdhS7BE)\n",
        "  * [Nanopore data](#scrollTo=JAEWpOp6TJEl)\n",
        "3. [Aligning reads to reference](#scrollTo=gANzZ3My1hWx)\n",
        "  * [Illumina data](#scrollTo=QUD__5S41msl)\n",
        "  * [Nanopore data](#scrollTo=p6tW2tWq1pB9)\n",
        "4. [Consensus calling](#scrollTo=V7xPm-8zPWDQ)\n",
        "  * [Illumina data](#scrollTo=i80QZdHtmOVq)\n",
        "  * [Nanopore data](#scrollTo=mJhqzELmmLav)"
      ]
    },
    {
      "cell_type": "markdown",
      "metadata": {
        "id": "O2yVf3BatvPS"
      },
      "source": [
        "# 1. Removing sequencing adapters & quality control"
      ]
    },
    {
      "cell_type": "markdown",
      "metadata": {
        "id": "me1ujCj_gye6"
      },
      "source": [
        "## Illumina data\n",
        "\n",
        "### Removing adapters from Illumina Sequencing data\n",
        "This step is usally done with tools such as [Trimmomatic](https://github.com/usadellab/Trimmomatic) or [FastP](https://github.com/OpenGene/fastp).  \n",
        "Both Trimmomatic as well as FastP are read-cleaning tools which can be used to efficiently clean several aspects of your FastQ reads. For Illumina data, these tools also include a function to remove sequencing adapters with very high accuracy.\n",
        "\n",
        "Using Trimmomatic or Fastp for this step should be your go-to solution.\n",
        "However, here we will perform this step with a very different method.  \n",
        "\n",
        "SARS-CoV-2 or other reference based viral analysis has the benefit that during analysis we already have the knowledge of what the end result should (somewhat) look like. Therefore we are able to remove sequencing adapters by aligning the reads to the reference with a read-aligner such as Minimap2.  \n",
        "This particular method is many times more resource efficient when doing a 'target analysis' as we are doing here.\n",
        "\n",
        "Please also see the guiding presentation where we explain more how this works.\n",
        "\n",
        "Here we're using Minimap2 as a read-aligner. This is an aligner that works very well for a virus such as SARS-CoV-2. If you want to use this method for other viruses with Illumina data then please note you may need to use another read-aligner such as Bowtie2 or BWA-MEM."
      ]
    },
    {
      "cell_type": "code",
      "execution_count": null,
      "metadata": {
        "id": "OTYSM2vPt8B9"
      },
      "outputs": [],
      "source": [
        "%%bash\n",
        "source activate base; conda activate Alignments\n",
        "\n",
        "## Align the reads to the reference sequence\n",
        "minimap2 -ax sr source/extra/GCF_009858895_2_ASM985889v3_genomic.fasta example_data/illumina_fastq_1.fastq.gz example_data/illumina_fastq_2.fastq.gz | samtools view -F 256 -F 512 -F 4 -F 2048 -uS | samtools sort -o output_data/alignments/illumina_raw_alignment.bam\n",
        "samtools index output_data/alignments/illumina_raw_alignment.bam\n",
        "\n",
        "## extract the reads from the alignment back to a single fastq file without the adapters\n",
        "python source/extra/clipper.py --input output_data/alignments/illumina_raw_alignment.bam --output output_data/adapter_removal/illumina_no_adapters.fastq"
      ]
    },
    {
      "cell_type": "markdown",
      "metadata": {
        "id": "KaveX-l0jPsq"
      },
      "source": [
        "### Quality control in Illumina data\n",
        "\n",
        "When adapters have been removed from the reads it is necessary to perform quality control and data cleaning before continuing.  This is necessary to remove, for example, uncertain nucleotide calls caused by homopolymer regions or to remove reads from the dataset which are too short.  \n",
        "Additionally, when using Illumina sequencers the certainty of nucleotide calls degrades when approaching the end of a read.\n",
        "\n",
        "Usually the Quality Control and data cleaning can be combined with adapter removal if a tool such as FastP or Trimmomatic is used.\n",
        "\n",
        "### Questions\n",
        "* What is a PHRED score?\n",
        "* Why do we only cut the right side of the read?\n",
        "* Is this the 3' or 5' end\n",
        "* What does the window size and -l parameter specify?"
      ]
    },
    {
      "cell_type": "code",
      "execution_count": null,
      "metadata": {
        "id": "XV-vZK4mt-5c"
      },
      "outputs": [],
      "source": [
        "%%bash\n",
        "source activate base; conda activate Data_cleanup\n",
        "\n",
        "fastp -i output_data/adapter_removal/illumina_no_adapters.fastq -o output_data/quality_control/illumina_post_qc.fastq \\\n",
        "  -A --cut_right --cut_right_mean_quality 20 --cut_right_window_size 5 -l 100 \\\n",
        "  -h output_data/quality_control/illumina_fastp.html -j output_data/quality_control/illumina_fastp.json"
      ]
    },
    {
      "cell_type": "code",
      "execution_count": null,
      "metadata": {
        "cellView": "form",
        "id": "epIQY6ncPJ8R"
      },
      "outputs": [],
      "source": [
        "#@markdown <-- click to show quality control report\n",
        "!sed -i 's/http:\\/\\//https:\\/\\//g' ./output_data/quality_control/*.html\n",
        "from IPython.display import HTML\n",
        "\n",
        "HTML(filename=\"/content/output_data/quality_control/illumina_fastp.html\")"
      ]
    },
    {
      "cell_type": "markdown",
      "metadata": {
        "id": "kwlVA4aZjBzZ"
      },
      "source": [
        "## Nanopore data\n",
        "\n",
        "### Removing sequencing adapters from Nanopore Sequencing data\n",
        "Just like with Illumina data, sequencing adapters need to be removed from the Nanopore dataset.  \n",
        "With Nanopore data this can be done with a tool such as [Porechop](https://github.com/rrwick/Porechop), but it's also possible to perform this step with the default basecalling tool (Guppy) provided by Nanopore themselves.  \n",
        "\n",
        "Because of the error-rate present in Nanopore sequencing reads these tools are unable to clean the reads with 100% accuracy. It's therefore advised to check wether your adapters were properly removed by the cleaning tool to make sure this won't cause a problem later on.\n",
        "\n",
        "As we also did with the Illumina data, we won't use either Porechop or Guppy here to remove the adapters. Instead we will again use the aligner Minimap2 as a means to remove the adapters since we're doing a targeted analysis."
      ]
    },
    {
      "cell_type": "code",
      "execution_count": null,
      "metadata": {
        "id": "59p5PoLKjZJB"
      },
      "outputs": [],
      "source": [
        "%%bash\n",
        "source activate base; conda activate Alignments\n",
        "\n",
        "## Align the reads to the reference sequence\n",
        "minimap2 -ax map-ont source/extra/GCF_009858895_2_ASM985889v3_genomic.fasta example_data/nanopore_fastq.fastq.gz | samtools view -F 256 -F 512 -F 4 -F 2048 -uS | samtools sort -o output_data/alignments/nanopore_raw_alignment.bam\n",
        "samtools index output_data/alignments/nanopore_raw_alignment.bam\n",
        "\n",
        "## Extract the reads from the alignment back to a single fastq file without the adapters\n",
        "python source/extra/clipper.py --input output_data/alignments/nanopore_raw_alignment.bam --output output_data/adapter_removal/nanopore_no_adapters.fastq"
      ]
    },
    {
      "cell_type": "markdown",
      "metadata": {
        "id": "lQPwHLXYxvoO"
      },
      "source": [
        "### Quality control in Nanopore data\n",
        "\n",
        "The best filtering tool depends on your experimental setup as well as the data which you have available.  \n",
        "There are many nanopore-specific filtering tools such as [NanoFilt](https://github.com/wdecoster/nanofilt) or [nanopolish](https://github.com/jts/nanopolish).   Tools such as nanopolish rely on unprocessed raw data (fast5 data) from the Nanopore sequencer to perform its tasks.\n",
        "Depending on your analysis-setup this data may not always be directly available, such is the case here as we're just using FastQ data.   \n",
        " \n",
        "Because of this we don't need anything 'nanopore-specific' for this step, we can therefore use a tool like FastP which can be used in a more generic data-cleaning sense.\n",
        "\n",
        "### Questions\n",
        "* What differences do you see when comparing the quality reports of the Nanopore and Illumina reads?\n",
        "* What does the -l parameter do?"
      ]
    },
    {
      "cell_type": "code",
      "execution_count": null,
      "metadata": {
        "id": "f0PzyE74xvO_"
      },
      "outputs": [],
      "source": [
        "%%bash\n",
        "source activate base; conda activate Data_cleanup\n",
        "\n",
        "fastp -i output_data/adapter_removal/nanopore_no_adapters.fastq -o output_data/quality_control/nanopore_post_qc.fastq \\\n",
        "  -A --cut_right --cut_right_mean_quality 7 --cut_right_window_size 20 -l 100 \\\n",
        "  -h output_data/quality_control/nanopore_fastp.html -j output_data/quality_control/nanopore_fastp.json"
      ]
    },
    {
      "cell_type": "code",
      "execution_count": null,
      "metadata": {
        "cellView": "form",
        "id": "7mOiuTE0Pkwq"
      },
      "outputs": [],
      "source": [
        "#@markdown <-- click to show quality control report\n",
        "!sed -i 's/http:\\/\\//https:\\/\\//g' ./output_data/quality_control/*.html\n",
        "from IPython.display import HTML\n",
        "\n",
        "HTML(filename=\"/content/output_data/quality_control/nanopore_fastp.html\")"
      ]
    },
    {
      "cell_type": "markdown",
      "metadata": {
        "id": "4mdhoST_S2qp"
      },
      "source": [
        "# 2. Removing Primer sequences\n",
        "After performing quality filtering and trimming with FastP (or another tool) it's necessary to remove the primer sequences from the reads.  As with the earlier steps, there are various tools that can be used for this. For example the tool [CutAdapt](https://github.com/marcelm/cutadapt). \n",
        "\n",
        "However we use the tool [AmpliGone](https://rivm-bioinformatics.github.io/AmpliGone/1.1.0/) for this step as it is a tool which is developed exactly for the experimental setup and situation which is presented in the data that we're analysing here.\n",
        "AmpliGone can be used for both Illumina and Nanopore data.\n",
        "\n",
        "* What do you risk if you do not remove primers before determining a consensus sequence?\n",
        "* Look at the BED file. What does it describe?"
      ]
    },
    {
      "cell_type": "markdown",
      "metadata": {
        "id": "Ny9R7bdhS7BE"
      },
      "source": [
        "## Illumina data\n",
        "\n",
        "* Does the end-to-mid protocol cut primers from the 5' end?\n",
        "* Does the end-to-mid protocol cut primers from the 3' end?"
      ]
    },
    {
      "cell_type": "code",
      "execution_count": null,
      "metadata": {
        "id": "Rrbl-pqnkJlG"
      },
      "outputs": [],
      "source": [
        "%%bash\n",
        "source activate base; conda activate Data_cleanup\n",
        "\n",
        "AmpliGone --input output_data/quality_control/illumina_post_qc.fastq \\\n",
        "  --output output_data/primer_removal/illumina_no_primers.fastq \\\n",
        "  --reference source/extra/GCF_009858895_2_ASM985889v3_genomic.fasta \\\n",
        "  --primers source/extra/articv3.bed \\\n",
        "  --amplicon-type end-to-mid \\\n",
        "  --export-primers output_data/primer_removal/illumina_removed_primers.bed"
      ]
    },
    {
      "cell_type": "markdown",
      "metadata": {
        "id": "JAEWpOp6TJEl"
      },
      "source": [
        "## Nanopore data\n",
        "\n",
        "* Does the end-to-end protocol cut primers from the 5' end?\n",
        "* Does the end-to-end protocol cut primers from the 3' end?\n"
      ]
    },
    {
      "cell_type": "code",
      "execution_count": null,
      "metadata": {
        "id": "wrfu8TJjsDYL"
      },
      "outputs": [],
      "source": [
        "%%bash\n",
        "source activate base; conda activate Data_cleanup\n",
        "\n",
        "AmpliGone --input output_data/quality_control/nanopore_post_qc.fastq \\\n",
        "  --output output_data/primer_removal/nanopore_no_primers.fastq \\\n",
        "  --reference source/extra/GCF_009858895_2_ASM985889v3_genomic.fasta \\\n",
        "  --primers source/extra/articv3.bed \\\n",
        "  --amplicon-type end-to-end \\\n",
        "  --export-primers output_data/primer_removal/nanopore_removed_primers.bed"
      ]
    },
    {
      "cell_type": "markdown",
      "metadata": {
        "id": "gANzZ3My1hWx"
      },
      "source": [
        "# 3. Aligning reads to a reference\n",
        "\n",
        "Once your data is properly cleaned and primers are removed you can align the reads to the SARS-CoV-2 reference sequence. This is again done with a read-aligner.  \n",
        "For SARS-CoV-2 analysis we use Minimap2 for both Illumina and Nanopore data as this results in good quality alignments for both sequencing platforms with this particular virus.  \n",
        "With Minimap2 only the alignment preset needs to be adjusted for compatibility with the corresponding sequencing platform.\n",
        "\n",
        "Please note that you may need to use a different read-aligner for Illumina data depending on the virus and preprocessing steps that have been performed.\n",
        "\n",
        "\n",
        "The tool Samtools is then used to filter the output generated (for example discard reads that couldn't be aligned to the reference) by the read-aligner and to also write an output file in the correct format for subsequent tasks.\n",
        "\n",
        "Once alignment is done you can view the read-alignment results interactively."
      ]
    },
    {
      "cell_type": "markdown",
      "metadata": {
        "id": "QUD__5S41msl"
      },
      "source": [
        "## Illumina data\n",
        "\n",
        "* Do you see any missing amplicons?\n",
        "* If yes, which ones?"
      ]
    },
    {
      "cell_type": "code",
      "execution_count": null,
      "metadata": {
        "id": "0pbUIMnF1pXW"
      },
      "outputs": [],
      "source": [
        "%%bash\n",
        "source activate base; conda activate Alignments\n",
        "\n",
        "## Align the reads to the reference sequence\n",
        "minimap2 -ax sr source/extra/GCF_009858895_2_ASM985889v3_genomic.fasta output_data/primer_removal/illumina_no_primers.fastq | samtools view -F 256 -F 512 -F 4 -F 2048 -uS | samtools sort -o output_data/alignments/illumina_cleaned_alignment.bam\n",
        "samtools index output_data/alignments/illumina_cleaned_alignment.bam"
      ]
    },
    {
      "cell_type": "code",
      "execution_count": null,
      "metadata": {
        "cellView": "form",
        "id": "46uSB0xfq4W4"
      },
      "outputs": [],
      "source": [
        "#@markdown <-- Click to show alignment results\n",
        "\n",
        "!source activate base; conda activate Alignments; samtools view -bs 0.05 /content/output_data/alignments/illumina_cleaned_alignment.bam > /content/output_data/alignments/illumina_cleaned_subsampled_for_view.bam\n",
        "!source activate base; conda activate Alignments; samtools index /content/output_data/alignments/illumina_cleaned_subsampled_for_view.bam\n",
        "import igv_notebook\n",
        "igv_notebook.init()\n",
        "b = igv_notebook.Browser(\n",
        "    {\n",
        "        \"genome\": \"ASM985889v3\",\n",
        "        \"locus\": \"NC_045512.2:1-300\",\n",
        "        \"tracks\": [\n",
        "          {\n",
        "            \"name\": \"Illumina read alignment\",\n",
        "            \"path\": \"/content/output_data/alignments/illumina_cleaned_subsampled_for_view.bam\",\n",
        "            \"indexPath\": \"/content/output_data/alignments/illumina_cleaned_subsampled_for_view.bam.bai\",\n",
        "            \"type\": \"alignment\",\n",
        "            \"format\": \"bam\",\n",
        "            \"showSoftClips\": False,\n",
        "            \"colorBy\": \"strand\"\n",
        "           },\n",
        "           {\n",
        "              \"name\": \"Removed primers\",\n",
        "              \"type\": \"annotation\",\n",
        "              \"format\": \"bed\",\n",
        "              \"path\": \"/content/output_data/primer_removal/illumina_removed_primers.bed\",\n",
        "              \"displayMode\": \"EXPANDED\"\n",
        "           }\n",
        "        ]\n",
        "    }\n",
        ")"
      ]
    },
    {
      "cell_type": "markdown",
      "metadata": {
        "id": "p6tW2tWq1pB9"
      },
      "source": [
        "## Nanopore data\n",
        "\n",
        "* Do you see any mutations in positions where primers bind?\n",
        "* Does this seem to effect the coverage for the associated amplicon?\n",
        "* Can you find reads that are longer than the typical amplicon length? Is this a problem?"
      ]
    },
    {
      "cell_type": "code",
      "execution_count": null,
      "metadata": {
        "id": "H5otnZq9K7yQ"
      },
      "outputs": [],
      "source": [
        "%%bash\n",
        "source activate base; conda activate Alignments\n",
        "\n",
        "## Align the reads to the reference sequence\n",
        "minimap2 -ax map-ont source/extra/GCF_009858895_2_ASM985889v3_genomic.fasta output_data/primer_removal/nanopore_no_primers.fastq | samtools view -F 256 -F 512 -F 4 -F 2048 -uS | samtools sort -o output_data/alignments/nanopore_cleaned_alignment.bam\n",
        "samtools index output_data/alignments/nanopore_cleaned_alignment.bam"
      ]
    },
    {
      "cell_type": "code",
      "execution_count": null,
      "metadata": {
        "cellView": "form",
        "id": "4lBDRblLLWNS"
      },
      "outputs": [],
      "source": [
        "#@markdown <-- Click to show alignment results\n",
        "\n",
        "!source activate base; conda activate Alignments; samtools view -bs 0.05 /content/output_data/alignments/nanopore_cleaned_alignment.bam > /content/output_data/alignments/nanopore_cleaned_subsampled_for_view.bam\n",
        "!source activate base; conda activate Alignments; samtools index /content/output_data/alignments/nanopore_cleaned_subsampled_for_view.bam\n",
        "import igv_notebook\n",
        "igv_notebook.init()\n",
        "b = igv_notebook.Browser(\n",
        "    {\n",
        "        \"genome\": \"ASM985889v3\",\n",
        "        \"locus\": \"NC_045512.2:1-300\",\n",
        "        \"tracks\": [\n",
        "          {\n",
        "            \"name\": \"Nanopore read alignment\",\n",
        "            \"path\": \"/content/output_data/alignments/nanopore_cleaned_subsampled_for_view.bam\",\n",
        "            \"indexPath\": \"/content/output_data/alignments/nanopore_cleaned_subsampled_for_view.bam.bai\",\n",
        "            \"type\": \"alignment\",\n",
        "            \"format\": \"bam\",\n",
        "            \"showSoftClips\": False,\n",
        "            \"colorBy\": \"strand\"\n",
        "           },\n",
        "           {\n",
        "              \"name\": \"Removed primers\",\n",
        "              \"type\": \"annotation\",\n",
        "              \"format\": \"bed\",\n",
        "              \"path\": \"/content/output_data/primer_removal/nanopore_removed_primers.bed\",\n",
        "              \"displayMode\": \"EXPANDED\"\n",
        "           }\n",
        "        ]\n",
        "    }\n",
        ")"
      ]
    },
    {
      "cell_type": "markdown",
      "metadata": {
        "id": "V7xPm-8zPWDQ"
      },
      "source": [
        "# 4. Consensus calling\n",
        "\n",
        "When the reads have been aligned and a BAM (Binary Alignment Map) file is present we can start with the process of creating a consensus sequence.\n",
        "\n",
        "There are different ways to create a consensus sequence. The most common method is to create a VCF (Variant Call Format) file first.  \n",
        "A VCF file is made by with a variant caller such as [LoFreq](https://github.com/CSB5/lofreq) or [BCFtools](https://github.com/samtools/bcftools).  \n",
        "There is no such thing as a 'best variant caller' as this is highly dependant on the data and experimental setup that you're processing.  \n",
        "\n",
        "\n",
        "Another method is to not use a variant caller at all and make a consensus sequence directly from the earlier generated BAM file. This is also what we will be doing below.  \n",
        "The tool we will be using for this is [TrueConsense](https://github.com/RIVM-bioinformatics/TrueConsense) which is a consensus-caller for viral-targets.  \n",
        "The benefit of making a consensus-genome directly from a BAM file is that a lot of contextual information is still present. This contextual information can quickly get lost when using an intermediate file containing only differences.\n",
        "\n",
        "One method is not necessarily better than another method, this depends on your own data, the complexity of the pathogen itself as well as the experimental setup that was used."
      ]
    },
    {
      "cell_type": "markdown",
      "metadata": {
        "id": "i80QZdHtmOVq"
      },
      "source": [
        "## Illumina data\n",
        "\n",
        "* What do think is a good minimum coverage level to use for illumina data?"
      ]
    },
    {
      "cell_type": "code",
      "execution_count": null,
      "metadata": {
        "id": "H2bLgk98mP5A"
      },
      "outputs": [],
      "source": [
        "%%bash\n",
        "source activate base; conda activate Consensus_seq\n",
        "\n",
        "TrueConsense --input output_data/alignments/illumina_cleaned_alignment.bam \\\n",
        "  --reference /content/source/extra/GCF_009858895_2_ASM985889v3_genomic.fasta \\\n",
        "  --features /content/source/extra/features.gff \\\n",
        "  --coverage-level 10 \\\n",
        "  --samplename illumina_example \\\n",
        "  --output output_data/illumina_consensus_sequence.fasta \\\n",
        "  --variants output_data/illumina_variants.vcf \\\n",
        "  --output-gff output_data/illumina_corrected_features.gff \\\n",
        "  --depth-of-coverage output_data/illumina_coverage.tsv"
      ]
    },
    {
      "cell_type": "markdown",
      "metadata": {
        "id": "mJhqzELmmLav"
      },
      "source": [
        "## Nanopore data\n",
        "\n",
        "* What do think is a good minimum coverage level to use for nanopore data?\n",
        "* Inspect the vcf and gff files. Can you find (some of) the mutations in the gff back in the alignment?\n",
        "* Which clade is this sequence according to NextClade?\n",
        "* Which lineage is this sequence according to Pangolin?"
      ]
    },
    {
      "cell_type": "code",
      "execution_count": null,
      "metadata": {
        "id": "PVxWR-YKPePk"
      },
      "outputs": [],
      "source": [
        "%%bash\n",
        "source activate base; conda activate Consensus_seq\n",
        "\n",
        "TrueConsense --input output_data/alignments/nanopore_cleaned_alignment.bam \\\n",
        "  --reference /content/source/extra/GCF_009858895_2_ASM985889v3_genomic.fasta \\\n",
        "  --features /content/source/extra/features.gff \\\n",
        "  --coverage-level 30 \\\n",
        "  --samplename nanopore_example \\\n",
        "  --output output_data/nanopore_consensus_sequence.fasta \\\n",
        "  --variants output_data/nanopore_variants.vcf \\\n",
        "  --output-gff output_data/nanopore_corrected_features.gff \\\n",
        "  --depth-of-coverage output_data/nanopore_coverage.tsv"
      ]
    },
    {
      "cell_type": "markdown",
      "source": [
        "# 5. Manual curation\n",
        "\n",
        "Now that the consensus sequence is generated from both the Illumina and Nanopore data we have to perform a manual curation step to see if everything that we have done resulted in a proper consensus genome.  \n",
        "\n",
        "You can download the generated consensus sequences from this environment to your own computer and use a web-based tool such as [NextClade](https://clades.nextstrain.org/) to see how the generated consensus genome turned out."
      ],
      "metadata": {
        "id": "RstREyncoNZD"
      }
    }
  ],
  "metadata": {
    "colab": {
      "name": "Data_cleanup.ipynb",
      "provenance": []
    },
    "kernelspec": {
      "display_name": "Python 3.8.12 ('HERA')",
      "language": "python",
      "name": "python3"
    },
    "language_info": {
      "name": "python",
      "version": "3.8.12"
    },
    "orig_nbformat": 4,
    "vscode": {
      "interpreter": {
        "hash": "470232b6a74107a445b11dc50501137af5b83a444a2761aebd339f2fc674b0dd"
      }
    }
  },
  "nbformat": 4,
  "nbformat_minor": 0
}