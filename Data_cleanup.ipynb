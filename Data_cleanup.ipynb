{
 "cells": [
  {
   "cell_type": "markdown",
   "metadata": {},
   "source": [
    "# HERA Bioinformatics training\n",
    "\n",
    "Hi!\n",
    "\n",
    "Welcome to the hands-on course part of the HERA bioinformatics training.\n",
    "\n",
    "Before getting started, underneath this text you'll see a block with some text in it, and when you hover over it with your mouse you'll see a play-button.  \n",
    "Please click that play button now, it will install and configure everything necessary for this course.  \n",
    "Installation will take about 5~6 minutes."
   ]
  },
  {
   "cell_type": "code",
   "execution_count": null,
   "metadata": {},
   "outputs": [],
   "source": [
    "#@title\n",
    "!sed -i -e '1,2d' ~/.bashrc && source ~/.bashrc && bash -c \"$(curl -sL https://raw.githubusercontent.com/RIVM-bioinformatics/HERA-Bioinformatics-Training/main/setup.sh)\""
   ]
  }
 ],
 "metadata": {
  "kernelspec": {
   "display_name": "Python 3.8.10 64-bit",
   "language": "python",
   "name": "python3"
  },
  "language_info": {
   "name": "python",
   "version": "3.8.10"
  },
  "orig_nbformat": 4,
  "vscode": {
   "interpreter": {
    "hash": "916dbcbb3f70747c44a77c7bcd40155683ae19c65e1c03b4aa3499c5328201f1"
   }
  }
 },
 "nbformat": 4,
 "nbformat_minor": 2
}
