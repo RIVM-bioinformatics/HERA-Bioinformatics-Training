{
  "cells": [
    {
      "cell_type": "markdown",
      "metadata": {
        "id": "q5K9sTeb7pT4"
      },
      "source": [
        "# HERA Bioinformatics training\n",
        "\n",
        "Hi!\n",
        "\n",
        "Welcome to the hands-on course part of the HERA bioinformatics training.\n",
        "\n",
        "Before getting started, underneath this text you'll see a button with the text \"*Show code*\" with a play-button next to it.  \n",
        "Please click that play button now, it will install and configure everything necessary for this course. \n",
        "\n",
        "Installation will take about 5~6 minutes.\n",
        "\n",
        "---"
      ]
    },
    {
      "cell_type": "code",
      "execution_count": null,
      "metadata": {
        "id": "gOcC9i9o7pT_"
      },
      "outputs": [],
      "source": [
        "#@title\n",
        "!pip install igv-jupyter --quiet > /dev/null 2>&1\n",
        "!sed -i -e '1,2d' ~/.bashrc && source ~/.bashrc && bash -c \"$(curl -sL https://raw.githubusercontent.com/RIVM-bioinformatics/HERA-Bioinformatics-Training/main/setup.sh)\""
      ]
    },
    {
      "cell_type": "markdown",
      "metadata": {
        "id": "Ok5vRnFpZ_OI"
      },
      "source": [
        "## Table of contents\n",
        "\n",
        "1. [Removing sequencing adapters & quality control](#scrollTo=O2yVf3BatvPS)\n",
        "  * [Illumina data](#scrollTo=me1ujCj_gye6)\n",
        "  * [Nanopore data](#scrollTo=kwlVA4aZjBzZ)\n",
        "2. [Removing primer sequences](#scrollTo=4mdhoST_S2qp)\n",
        "  * [Illumina data](#scrollTo=Ny9R7bdhS7BE)\n",
        "  * [Nanopore data](#scrollTo=JAEWpOp6TJEl)\n",
        "3. [Aligning reads to reference](#scrollTo=gANzZ3My1hWx)\n",
        "  * [Illumina data](#scrollTo=QUD__5S41msl)\n",
        "  * [Nanopore data](#scrollTo=p6tW2tWq1pB9)\n",
        "4. [Consensus calling](#scrollTo=V7xPm-8zPWDQ)\n",
        "  * [Illumina data](#scrollTo=i80QZdHtmOVq)\n",
        "  * [Nanopore data](#scrollTo=mJhqzELmmLav)"
      ]
    },
    {
      "cell_type": "markdown",
      "metadata": {
        "id": "O2yVf3BatvPS"
      },
      "source": [
        "# Removing sequencing adapters & quality control"
      ]
    },
    {
      "cell_type": "markdown",
      "metadata": {
        "id": "me1ujCj_gye6"
      },
      "source": [
        "## Illumina data\n",
        "\n",
        "### Removing adapters from Illumina Sequencing data\n",
        "This step is usally done with tools such as [Trimmomatic](https://github.com/usadellab/Trimmomatic) or [FastP](https://github.com/OpenGene/fastp).\n",
        "\n",
        "However, it is also possible to do this step by aligning to the reference in case of a targeted analysis, as is usually the case with SARS-CoV-2."
      ]
    },
    {
      "cell_type": "code",
      "execution_count": null,
      "metadata": {
        "id": "OTYSM2vPt8B9"
      },
      "outputs": [],
      "source": [
        "%%bash\n",
        "source activate base; conda activate Alignments\n",
        "\n",
        "## Align the reads to the reference sequence\n",
        "minimap2 -ax sr source/extra/GCF_009858895_2_ASM985889v3_genomic.fasta example_data/illumina_fastq_1.fastq.gz example_data/illumina_fastq_2.fastq.gz | samtools view -F 256 -F 512 -F 4 -F 2048 -uS | samtools sort -o output_data/alignments/illumina_raw_alignment.bam\n",
        "samtools index output_data/alignments/illumina_raw_alignment.bam\n",
        "\n",
        "## extract the reads from the alignment back to a single fastq file without the adapters\n",
        "python source/extra/clipper.py --input output_data/alignments/illumina_raw_alignment.bam --output output_data/adapter_removal/illumina_no_adapters.fastq"
      ]
    },
    {
      "cell_type": "markdown",
      "metadata": {
        "id": "KaveX-l0jPsq"
      },
      "source": [
        "### Quality control in Illumina data\n",
        "\n",
        "Usually can be combined with adapter removal if fastp or trimmomatic is used for adapter removal.\n",
        "\n",
        "### Questions\n",
        "* Why do we only cut the right side of the read?\n",
        "* Is this the 3' or 5' end\n",
        "* What does the window size and -l parameter specify?"
      ]
    },
    {
      "cell_type": "code",
      "execution_count": null,
      "metadata": {
        "id": "XV-vZK4mt-5c"
      },
      "outputs": [],
      "source": [
        "%%bash\n",
        "source activate base; conda activate Data_cleanup\n",
        "\n",
        "fastp -i output_data/adapter_removal/illumina_no_adapters.fastq -o output_data/quality_control/illumina_post_qc.fastq \\\n",
        "  -A --cut_right --cut_right_mean_quality 20 --cut_right_window_size 5 -l 100 \\\n",
        "  -h output_data/quality_control/illumina_fastp.html -j output_data/quality_control/illumina_fastp.json"
      ]
    },
    {
      "cell_type": "code",
      "execution_count": null,
      "metadata": {
        "cellView": "form",
        "id": "epIQY6ncPJ8R"
      },
      "outputs": [],
      "source": [
        "#@markdown <-- click to show quality control report\n",
        "!sed -i 's/http:\\/\\//https:\\/\\//g' ./output_data/quality_control/*.html\n",
        "from IPython.display import HTML\n",
        "\n",
        "HTML(filename=\"/content/output_data/quality_control/illumina_fastp.html\")"
      ]
    },
    {
      "cell_type": "markdown",
      "metadata": {
        "id": "kwlVA4aZjBzZ"
      },
      "source": [
        "## Nanopore data\n",
        "\n",
        "### Removing sequencing adapters from Nanopore Sequencing data"
      ]
    },
    {
      "cell_type": "code",
      "execution_count": null,
      "metadata": {
        "id": "59p5PoLKjZJB"
      },
      "outputs": [],
      "source": [
        "%%bash\n",
        "source activate base; conda activate Alignments\n",
        "\n",
        "## Align the reads to the reference sequence\n",
        "minimap2 -ax map-ont source/extra/GCF_009858895_2_ASM985889v3_genomic.fasta example_data/nanopore_fastq.fastq.gz | samtools view -F 256 -F 512 -F 4 -F 2048 -uS | samtools sort -o output_data/alignments/nanopore_raw_alignment.bam\n",
        "samtools index output_data/alignments/nanopore_raw_alignment.bam\n",
        "\n",
        "## Extract the reads from the alignment back to a single fastq file without the adapters\n",
        "python source/extra/clipper.py --input output_data/alignments/nanopore_raw_alignment.bam --output output_data/adapter_removal/nanopore_no_adapters.fastq"
      ]
    },
    {
      "cell_type": "markdown",
      "metadata": {
        "id": "lQPwHLXYxvoO"
      },
      "source": [
        "### Quality control in Nanopore data\n",
        "\n",
        "The best filtering tool depends on your experimental setup as well as the data which you have available.  \n",
        "There are many nanopore-specific filtering tools.   \n",
        "However, we're just using FastQ data here and we don't really need anything nanopore-specific for filtering.  \n",
        "So we'll be using FastP for consistency.\n",
        "\n",
        "### Questions\n",
        "* What differences do you see when comparing the quality reports of the Nanopore and Illumina reads?\n",
        "* What does the -l parameter do?"
      ]
    },
    {
      "cell_type": "code",
      "execution_count": null,
      "metadata": {
        "id": "f0PzyE74xvO_"
      },
      "outputs": [],
      "source": [
        "%%bash\n",
        "source activate base; conda activate Data_cleanup\n",
        "\n",
        "fastp -i output_data/adapter_removal/nanopore_no_adapters.fastq -o output_data/quality_control/nanopore_post_qc.fastq \\\n",
        "  -A --cut_right --cut_right_mean_quality 7 --cut_right_window_size 20 -l 100 \\\n",
        "  -h output_data/quality_control/nanopore_fastp.html -j output_data/quality_control/nanopore_fastp.json"
      ]
    },
    {
      "cell_type": "code",
      "execution_count": null,
      "metadata": {
        "cellView": "form",
        "id": "7mOiuTE0Pkwq"
      },
      "outputs": [],
      "source": [
        "#@markdown <-- click to show quality control report\n",
        "!sed -i 's/http:\\/\\//https:\\/\\//g' ./output_data/quality_control/*.html\n",
        "from IPython.display import HTML\n",
        "\n",
        "HTML(filename=\"/content/output_data/quality_control/nanopore_fastp.html\")"
      ]
    },
    {
      "cell_type": "markdown",
      "metadata": {
        "id": "4mdhoST_S2qp"
      },
      "source": [
        "# Removing Primer sequences\n",
        "After doing quality filtering and trimming with FastP, we also need to remove the primer sequences from the reads. We use the tool [AmpliGone](https://rivm-bioinformatics.github.io/AmpliGone/1.1.0/) for this.\n",
        "\n",
        "* What do you risk if you do not remove primers before determining a consensus sequence?"
      ]
    },
    {
      "cell_type": "markdown",
      "metadata": {
        "id": "Ny9R7bdhS7BE"
      },
      "source": [
        "## Illumina data\n",
        "\n",
        "* Does the end-to-mid protocol cut primers from the 5' end?\n",
        "* Does the end-to-mid protocol cut primers from the 3' end?"
      ]
    },
    {
      "cell_type": "code",
      "execution_count": null,
      "metadata": {
        "id": "Rrbl-pqnkJlG"
      },
      "outputs": [],
      "source": [
        "%%bash\n",
        "source activate base; conda activate Data_cleanup\n",
        "\n",
        "AmpliGone --input output_data/quality_control/illumina_post_qc.fastq \\\n",
        "  --output output_data/primer_removal/illumina_no_primers.fastq \\\n",
        "  --reference source/extra/GCF_009858895_2_ASM985889v3_genomic.fasta \\\n",
        "  --primers source/extra/articv3.bed \\\n",
        "  --amplicon-type end-to-mid \\\n",
        "  --export-primers output_data/primer_removal/illumina_removed_primers.bed"
      ]
    },
    {
      "cell_type": "markdown",
      "metadata": {
        "id": "JAEWpOp6TJEl"
      },
      "source": [
        "## Nanopore data\n",
        "\n",
        "* Does the end-to-end protocol cut primers from the 5' end?\n",
        "* Does the end-to-end protocol cut primers from the 3' end?\n"
      ]
    },
    {
      "cell_type": "code",
      "execution_count": null,
      "metadata": {
        "id": "wrfu8TJjsDYL"
      },
      "outputs": [],
      "source": [
        "%%bash\n",
        "source activate base; conda activate Data_cleanup\n",
        "\n",
        "AmpliGone --input output_data/quality_control/nanopore_post_qc.fastq \\\n",
        "  --output output_data/primer_removal/nanopore_no_primers.fastq \\\n",
        "  --reference source/extra/GCF_009858895_2_ASM985889v3_genomic.fasta \\\n",
        "  --primers source/extra/articv3.bed \\\n",
        "  --amplicon-type end-to-end \\\n",
        "  --export-primers output_data/primer_removal/nanopore_removed_primers.bed"
      ]
    },
    {
      "cell_type": "markdown",
      "metadata": {
        "id": "gANzZ3My1hWx"
      },
      "source": [
        "# Aligning reads to a reference"
      ]
    },
    {
      "cell_type": "markdown",
      "metadata": {
        "id": "QUD__5S41msl"
      },
      "source": [
        "## Illumina data\n",
        "\n",
        "* Do you see any missing amplicons?"
      ]
    },
    {
      "cell_type": "code",
      "execution_count": null,
      "metadata": {
        "id": "0pbUIMnF1pXW"
      },
      "outputs": [],
      "source": [
        "%%bash\n",
        "source activate base; conda activate Alignments\n",
        "\n",
        "## Align the reads to the reference sequence\n",
        "minimap2 -ax sr source/extra/GCF_009858895_2_ASM985889v3_genomic.fasta output_data/primer_removal/illumina_no_primers.fastq | samtools view -F 256 -F 512 -F 4 -F 2048 -uS | samtools sort -o output_data/alignments/illumina_cleaned_alignment.bam\n",
        "samtools index output_data/alignments/illumina_cleaned_alignment.bam"
      ]
    },
    {
      "cell_type": "code",
      "execution_count": null,
      "metadata": {
        "id": "46uSB0xfq4W4"
      },
      "outputs": [],
      "source": [
        "#@markdown <-- Click to show alignment results\n",
        "\n",
        "!source activate base; conda activate Alignments; samtools view -bs 0.05 /content/output_data/alignments/illumina_cleaned_alignment.bam > /content/output_data/alignments/illumina_cleaned_subsampled_for_view.bam\n",
        "!source activate base; conda activate Alignments; samtools index /content/output_data/alignments/illumina_cleaned_subsampled_for_view.bam\n",
        "import igv_notebook\n",
        "igv_notebook.init()\n",
        "b = igv_notebook.Browser(\n",
        "    {\n",
        "        \"genome\": \"ASM985889v3\",\n",
        "        \"locus\": \"NC_045512.2:1-300\",\n",
        "        \"tracks\": [\n",
        "          {\n",
        "            \"name\": \"Illumina read alignment\",\n",
        "            \"path\": \"/content/output_data/alignments/illumina_cleaned_subsampled_for_view.bam\",\n",
        "            \"indexPath\": \"/content/output_data/alignments/illumina_cleaned_subsampled_for_view.bam.bai\",\n",
        "            \"type\": \"alignment\",\n",
        "            \"format\": \"bam\",\n",
        "            \"showSoftClips\": False,\n",
        "            \"colorBy\": \"strand\"\n",
        "           },\n",
        "           {\n",
        "              \"name\": \"Removed primers\",\n",
        "              \"type\": \"annotation\",\n",
        "              \"format\": \"bed\",\n",
        "              \"path\": \"/content/output_data/primer_removal/illumina_removed_primers.bed\",\n",
        "              \"displayMode\": \"EXPANDED\"\n",
        "           }\n",
        "        ]\n",
        "    }\n",
        ")"
      ]
    },
    {
      "cell_type": "markdown",
      "metadata": {
        "id": "p6tW2tWq1pB9"
      },
      "source": [
        "## Nanopore data\n",
        "TODO: use the correct primers to cut. V4 in stead of V3\n",
        "\n",
        "* Do you see any mutations in positions where primers bind?\n",
        "* Does this seem to effect the coverage for the associated amplicon?"
      ]
    },
    {
      "cell_type": "code",
      "execution_count": null,
      "metadata": {
        "id": "H5otnZq9K7yQ"
      },
      "outputs": [],
      "source": [
        "%%bash\n",
        "source activate base; conda activate Alignments\n",
        "\n",
        "## Align the reads to the reference sequence\n",
        "minimap2 -ax map-ont source/extra/GCF_009858895_2_ASM985889v3_genomic.fasta output_data/primer_removal/nanopore_no_primers.fastq | samtools view -F 256 -F 512 -F 4 -F 2048 -uS | samtools sort -o output_data/alignments/nanopore_cleaned_alignment.bam\n",
        "samtools index output_data/alignments/nanopore_cleaned_alignment.bam"
      ]
    },
    {
      "cell_type": "code",
      "execution_count": null,
      "metadata": {
        "id": "4lBDRblLLWNS"
      },
      "outputs": [],
      "source": [
        "#@markdown <-- Click to show alignment results\n",
        "\n",
        "!source activate base; conda activate Alignments; samtools view -bs 0.05 /content/output_data/alignments/nanopore_cleaned_alignment.bam > /content/output_data/alignments/nanopore_cleaned_subsampled_for_view.bam\n",
        "!source activate base; conda activate Alignments; samtools index /content/output_data/alignments/nanopore_cleaned_subsampled_for_view.bam\n",
        "import igv_notebook\n",
        "igv_notebook.init()\n",
        "b = igv_notebook.Browser(\n",
        "    {\n",
        "        \"genome\": \"ASM985889v3\",\n",
        "        \"locus\": \"NC_045512.2:1-300\",\n",
        "        \"tracks\": [\n",
        "          {\n",
        "            \"name\": \"Nanopore read alignment\",\n",
        "            \"path\": \"/content/output_data/alignments/nanopore_cleaned_subsampled_for_view.bam\",\n",
        "            \"indexPath\": \"/content/output_data/alignments/nanopore_cleaned_subsampled_for_view.bam.bai\",\n",
        "            \"type\": \"alignment\",\n",
        "            \"format\": \"bam\",\n",
        "            \"showSoftClips\": False,\n",
        "            \"colorBy\": \"strand\"\n",
        "           },\n",
        "           {\n",
        "              \"name\": \"Removed primers\",\n",
        "              \"type\": \"annotation\",\n",
        "              \"format\": \"bed\",\n",
        "              \"path\": \"/content/output_data/primer_removal/nanopore_removed_primers.bed\",\n",
        "              \"displayMode\": \"EXPANDED\"\n",
        "           }\n",
        "        ]\n",
        "    }\n",
        ")"
      ]
    },
    {
      "cell_type": "markdown",
      "metadata": {
        "id": "V7xPm-8zPWDQ"
      },
      "source": [
        "# Consensus calling"
      ]
    },
    {
      "cell_type": "markdown",
      "metadata": {
        "id": "i80QZdHtmOVq"
      },
      "source": [
        "# Illumina data\n",
        "\n",
        "* What do think is a good minimum coverage level to use for illumina data?"
      ]
    },
    {
      "cell_type": "code",
      "execution_count": null,
      "metadata": {
        "id": "H2bLgk98mP5A"
      },
      "outputs": [],
      "source": [
        "%%bash\n",
        "source activate base; conda activate Consensus_seq\n",
        "\n",
        "TrueConsense --input output_data/alignments/illumina_cleaned_alignment.bam \\\n",
        "  --reference /content/source/extra/GCF_009858895_2_ASM985889v3_genomic.fasta \\\n",
        "  --features /content/source/extra/features.gff \\\n",
        "  --coverage-level 10 \\\n",
        "  --samplename illumina_example \\\n",
        "  --output output_data/illumina_consensus_sequence.fasta \\\n",
        "  --variants output_data/illumina_variants.vcf \\\n",
        "  --output-gff output_data/illumina_corrected_features.gff \\\n",
        "  --depth-of-coverage output_data/illumina_coverage.tsv"
      ]
    },
    {
      "cell_type": "markdown",
      "metadata": {
        "id": "mJhqzELmmLav"
      },
      "source": [
        "# Nanopore data\n",
        "\n",
        "* What do think is a good minimum coverage level to use for nanopore data?\n",
        "* Inspect the vcf and gff files. Can you find (some of) the mutations in the gff back in the alignment?\n",
        "* Which clade is this sequence according to NextClade?\n",
        "* Which lineage is this sequence according to Pangolin?"
      ]
    },
    {
      "cell_type": "code",
      "execution_count": null,
      "metadata": {
        "id": "PVxWR-YKPePk"
      },
      "outputs": [],
      "source": [
        "%%bash\n",
        "source activate base; conda activate Consensus_seq\n",
        "\n",
        "TrueConsense --input output_data/alignments/nanopore_cleaned_alignment.bam \\\n",
        "  --reference /content/source/extra/GCF_009858895_2_ASM985889v3_genomic.fasta \\\n",
        "  --features /content/source/extra/features.gff \\\n",
        "  --coverage-level 30 \\\n",
        "  --samplename nanopore_example \\\n",
        "  --output output_data/nanopore_consensus_sequence.fasta \\\n",
        "  --variants output_data/nanopore_variants.vcf \\\n",
        "  --output-gff output_data/nanopore_corrected_features.gff \\\n",
        "  --depth-of-coverage output_data/nanopore_coverage.tsv"
      ]
    },
    {
      "cell_type": "code",
      "execution_count": null,
      "metadata": {
        "id": "bmJnflYTR1Xq"
      },
      "outputs": [],
      "source": []
    }
  ],
  "metadata": {
    "colab": {
      "name": "Data_cleanup.ipynb",
      "provenance": []
    },
    "kernelspec": {
      "display_name": "Python 3.8.10 64-bit",
      "language": "python",
      "name": "python3"
    },
    "language_info": {
      "name": "python",
      "version": "3.8.10"
    },
    "orig_nbformat": 4,
    "vscode": {
      "interpreter": {
        "hash": "916dbcbb3f70747c44a77c7bcd40155683ae19c65e1c03b4aa3499c5328201f1"
      }
    }
  },
  "nbformat": 4,
  "nbformat_minor": 0
}
