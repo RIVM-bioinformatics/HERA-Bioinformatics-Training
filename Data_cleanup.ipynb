{
  "cells": [
    {
      "cell_type": "markdown",
      "metadata": {
        "id": "q5K9sTeb7pT4"
      },
      "source": [
        "# HERA Bioinformatics training\n",
        "\n",
        "Hi!\n",
        "\n",
        "Welcome to the hands-on course part of the HERA bioinformatics training.\n",
        "\n",
        "Before getting started, underneath this text you'll see a button with the text \"*Show code*\" with a play-button next to it.  \n",
        "Please click that play button now, it will install and configure everything necessary for this course. \n",
        "\n",
        "Installation will take about 5~6 minutes.\n",
        "\n",
        "---"
      ]
    },
    {
      "cell_type": "code",
      "execution_count": null,
      "metadata": {
        "cellView": "form",
        "id": "gOcC9i9o7pT_"
      },
      "outputs": [],
      "source": [
        "#@title\n",
        "!pip install igv-jupyter --quiet > /dev/null 2>&1\n",
        "!sed -i -e '1,2d' ~/.bashrc && source ~/.bashrc && bash -c \"$(curl -sL https://raw.githubusercontent.com/RIVM-bioinformatics/HERA-Bioinformatics-Training/main/setup.sh)\""
      ]
    },
    {
      "cell_type": "markdown",
      "source": [
        "## Table of contents\n",
        "\n",
        "1. [Removing sequencing adapters & quality control](#scrollTo=O2yVf3BatvPS)\n",
        "  * [Illumina data](#w)\n",
        "  * [Nanopore data](#e)\n",
        "2. [Removing primer sequences]()\n",
        "  * [Illumina data]()\n",
        "  * [Nanopore data]()\n",
        "3. [Aligning reads to reference]()\n",
        "  * [Illumina data]()\n",
        "  * [Nanopore data]()\n",
        "4. [Consensus calling]()"
      ],
      "metadata": {
        "id": "Ok5vRnFpZ_OI"
      }
    },
    {
      "cell_type": "markdown",
      "metadata": {
        "id": "O2yVf3BatvPS"
      },
      "source": [
        "# Removing sequencing adapters & quality control"
      ]
    },
    {
      "cell_type": "markdown",
      "source": [
        "## Illumina data\n",
        "\n",
        "### Removing adapters from Illumina Sequencing data\n",
        "Trimmomatic  \n",
        "FastP  \n",
        "\n",
        "Ook mogelijk om alignments te gebruiken in het geval van een 'targeted' analyse, zoals het geval is bij analyses van SARS-CoV-2"
      ],
      "metadata": {
        "id": "me1ujCj_gye6"
      }
    },
    {
      "cell_type": "code",
      "execution_count": null,
      "metadata": {
        "id": "OTYSM2vPt8B9"
      },
      "outputs": [],
      "source": [
        "%%bash\n",
        "source activate base; conda activate Alignments\n",
        "\n",
        "## Align the reads to the reference sequence\n",
        "minimap2 -ax sr source/extra/GCF_009858895_2_ASM985889v3_genomic.fasta example_data/illumina_fastq_1.fastq.gz example_data/illumina_fastq_2.fastq.gz | samtools view -F 256 -F 512 -F 4 -F 2048 -uS | samtools sort -o output_data/alignments/illumina_raw_alignment.bam\n",
        "samtools index output_data/alignments/illumina_raw_alignment.bam\n",
        "\n",
        "## extract the reads from the alignment back to a single fastq file without the adapters\n",
        "python source/extra/clipper.py --input output_data/alignments/illumina_raw_alignment.bam --output output_data/adapter_removal/illumina_no_adapters.fastq"
      ]
    },
    {
      "cell_type": "markdown",
      "source": [
        "### Quality control in Illumina data\n",
        "\n",
        "Usually can be combined with adapter removal if fastp or trimmomatic is used for adapter removal. "
      ],
      "metadata": {
        "id": "KaveX-l0jPsq"
      }
    },
    {
      "cell_type": "code",
      "source": [
        "%%bash\n",
        "source activate base; conda activate Data_cleanup\n",
        "\n",
        "fastp -i output_data/adapter_removal/illumina_no_adapters.fastq -o output_data/quality_control/illumina_post_qc.fastq \\\n",
        "  -A --cut_right --cut_right_mean_quality 20 --cut_right_window_size 5 -l 100 \\\n",
        "  -h output_data/quality_control/illumina_fastp.html -j output_data/quality_control/illumina_fastp.json"
      ],
      "metadata": {
        "id": "XV-vZK4mt-5c"
      },
      "execution_count": null,
      "outputs": []
    },
    {
      "cell_type": "code",
      "source": [
        "#@markdown <-- click to show quality control report\n",
        "!sed -i 's/http:\\/\\//https:\\/\\//g' ./output_data/quality_control/*.html\n",
        "from IPython.display import HTML\n",
        "\n",
        "HTML(filename=\"/content/output_data/quality_control/illumina_fastp.html\")"
      ],
      "metadata": {
        "cellView": "form",
        "id": "epIQY6ncPJ8R"
      },
      "execution_count": null,
      "outputs": []
    },
    {
      "cell_type": "markdown",
      "source": [
        "## Nanopore data\n",
        "\n",
        "### Removing sequencing adapters from Nanopore Sequencing data"
      ],
      "metadata": {
        "id": "kwlVA4aZjBzZ"
      }
    },
    {
      "cell_type": "code",
      "source": [
        "%%bash\n",
        "source activate base; conda activate Alignments\n",
        "\n",
        "## Align the reads to the reference sequence\n",
        "minimap2 -ax map-ont source/extra/GCF_009858895_2_ASM985889v3_genomic.fasta example_data/nanopore_fastq.fastq.gz | samtools view -F 256 -F 512 -F 4 -F 2048 -uS | samtools sort -o output_data/alignments/nanopore_raw_alignment.bam\n",
        "samtools index output_data/alignments/nanopore_raw_alignment.bam\n",
        "\n",
        "## Extract the reads from the alignment back to a single fastq file without the adapters\n",
        "python source/extra/clipper.py --input output_data/alignments/nanopore_raw_alignment.bam --output output_data/adapter_removal/nanopore_no_adapters.fastq"
      ],
      "metadata": {
        "id": "59p5PoLKjZJB"
      },
      "execution_count": null,
      "outputs": []
    },
    {
      "cell_type": "markdown",
      "source": [
        "### Quality control in Nanopore data\n",
        "\n",
        "The best filtering tool depends on your experimental setup as well as the data which you have available.  \n",
        "There are many nanopore-specific filtering tools.   \n",
        "However, we're just using FastQ data here and we don't really need anything nanopore-specific for filtering.  \n",
        "So we'll be using FastP for consistency. "
      ],
      "metadata": {
        "id": "lQPwHLXYxvoO"
      }
    },
    {
      "cell_type": "code",
      "source": [
        "%%bash\n",
        "source activate base; conda activate Data_cleanup\n",
        "\n",
        "fastp -i output_data/adapter_removal/nanopore_no_adapters.fastq -o output_data/quality_control/nanopore_post_qc.fastq \\\n",
        "  -A --cut_right --cut_right_mean_quality 7 --cut_right_window_size 20 -l 100 \\\n",
        "  -h output_data/quality_control/nanopore_fastp.html -j output_data/quality_control/nanopore_fastp.json"
      ],
      "metadata": {
        "id": "f0PzyE74xvO_"
      },
      "execution_count": null,
      "outputs": []
    },
    {
      "cell_type": "code",
      "source": [
        "#@markdown <-- click to show quality control report\n",
        "!sed -i 's/http:\\/\\//https:\\/\\//g' ./output_data/quality_control/*.html\n",
        "from IPython.display import HTML\n",
        "\n",
        "HTML(filename=\"/content/output_data/quality_control/nanopore_fastp.html\")"
      ],
      "metadata": {
        "cellView": "form",
        "id": "7mOiuTE0Pkwq"
      },
      "execution_count": null,
      "outputs": []
    },
    {
      "cell_type": "markdown",
      "source": [
        "# Removing Primer sequences"
      ],
      "metadata": {
        "id": "4mdhoST_S2qp"
      }
    },
    {
      "cell_type": "markdown",
      "source": [
        "## Illumina data"
      ],
      "metadata": {
        "id": "Ny9R7bdhS7BE"
      }
    },
    {
      "cell_type": "code",
      "execution_count": null,
      "metadata": {
        "id": "Rrbl-pqnkJlG"
      },
      "outputs": [],
      "source": [
        "%%bash\n",
        "source activate base; conda activate Data_cleanup\n",
        "\n",
        "AmpliGone --input output_data/quality_control/illumina_post_qc.fastq \\\n",
        "  --output output_data/primer_removal/illumina_no_primers.fastq \\\n",
        "  --reference source/extra/GCF_009858895_2_ASM985889v3_genomic.fasta \\\n",
        "  --primers source/extra/articv3.bed \\\n",
        "  --amplicon-type end-to-mid \\\n",
        "  --export-primers output_data/primer_removal/illumina_removed_primers.bed"
      ]
    },
    {
      "cell_type": "markdown",
      "source": [
        "## Nanopore data"
      ],
      "metadata": {
        "id": "JAEWpOp6TJEl"
      }
    },
    {
      "cell_type": "code",
      "execution_count": null,
      "metadata": {
        "id": "wrfu8TJjsDYL"
      },
      "outputs": [],
      "source": [
        "%%bash\n",
        "source activate base; conda activate Data_cleanup\n",
        "\n",
        "AmpliGone --input output_data/quality_control/nanopore_post_qc.fastq \\\n",
        "  --output output_data/primer_removal/nanopore_no_primers.fastq \\\n",
        "  --reference source/extra/GCF_009858895_2_ASM985889v3_genomic.fasta \\\n",
        "  --primers source/extra/articv3.bed \\\n",
        "  --amplicon-type end-to-end \\\n",
        "  --export-primers output_data/primer_removal/nanopore_removed_primers.bed"
      ]
    },
    {
      "cell_type": "markdown",
      "source": [
        "# Aligning reads to a reference"
      ],
      "metadata": {
        "id": "gANzZ3My1hWx"
      }
    },
    {
      "cell_type": "markdown",
      "source": [
        "## Illumina data"
      ],
      "metadata": {
        "id": "QUD__5S41msl"
      }
    },
    {
      "cell_type": "code",
      "source": [
        "%%bash\n",
        "source activate base; conda activate Alignments\n",
        "\n",
        "## Align the reads to the reference sequence\n",
        "minimap2 -ax sr source/extra/GCF_009858895_2_ASM985889v3_genomic.fasta output_data/primer_removal/illumina_no_primers.fastq | samtools view -F 256 -F 512 -F 4 -F 2048 -uS | samtools sort -o output_data/alignments/illumina_cleaned_alignment.bam\n",
        "samtools index output_data/alignments/illumina_cleaned_alignment.bam"
      ],
      "metadata": {
        "id": "0pbUIMnF1pXW"
      },
      "execution_count": null,
      "outputs": []
    },
    {
      "cell_type": "code",
      "source": [
        "#@markdown <-- Click to show alignment results\n",
        "\n",
        "!source activate base; conda activate Alignments; samtools view -bs 0.01 /content/output_data/alignments/illumina_cleaned_alignment.bam > /content/output_data/alignments/illumina_cleaned_subsampled_for_view.bam\n",
        "!source activate base; conda activate Alignments; samtools index /content/output_data/alignments/illumina_cleaned_subsampled_for_view.bam\n",
        "import igv_notebook\n",
        "igv_notebook.init()\n",
        "b = igv_notebook.Browser(\n",
        "    {\n",
        "        \"genome\": \"ASM985889v3\",\n",
        "        \"locus\": \"NC_045512.2:1-300\",\n",
        "        \"tracks\": [\n",
        "          {\n",
        "            \"name\": \"Illumina read alignment\",\n",
        "            \"path\": \"/content/output_data/alignments/illumina_cleaned_subsampled_for_view.bam\",\n",
        "            \"indexPath\": \"/content/output_data/alignments/illumina_cleaned_subsampled_for_view.bam.bai\",\n",
        "            \"type\": \"alignment\",\n",
        "            \"format\": \"bam\",\n",
        "            \"showSoftClips\": False,\n",
        "            \"colorBy\": \"strand\"\n",
        "           },\n",
        "           {\n",
        "              \"name\": \"Removed primers\",\n",
        "              \"type\": \"annotation\",\n",
        "              \"format\": \"bed\",\n",
        "              \"path\": \"/content/output_data/primer_removal/illumina_removed_primers.bed\",\n",
        "              \"displayMode\": \"EXPANDED\"\n",
        "           }\n",
        "        ]\n",
        "    }\n",
        ")"
      ],
      "metadata": {
        "cellView": "form",
        "id": "46uSB0xfq4W4"
      },
      "execution_count": null,
      "outputs": []
    },
    {
      "cell_type": "markdown",
      "source": [
        "## Nanopore data"
      ],
      "metadata": {
        "id": "p6tW2tWq1pB9"
      }
    },
    {
      "cell_type": "code",
      "source": [
        "%%bash\n",
        "source activate base; conda activate Alignments\n",
        "\n",
        "## Align the reads to the reference sequence\n",
        "minimap2 -ax map-ont source/extra/GCF_009858895_2_ASM985889v3_genomic.fasta output_data/primer_removal/nanopore_no_primers.fastq | samtools view -F 256 -F 512 -F 4 -F 2048 -uS | samtools sort -o output_data/alignments/nanopore_cleaned_alignment.bam\n",
        "samtools index output_data/alignments/nanopore_cleaned_alignment.bam"
      ],
      "metadata": {
        "id": "H5otnZq9K7yQ"
      },
      "execution_count": null,
      "outputs": []
    },
    {
      "cell_type": "code",
      "source": [
        "#@markdown <-- Click to show alignment results\n",
        "\n",
        "!source activate base; conda activate Alignments; samtools view -bs 0.01 /content/output_data/alignments/nanopore_cleaned_alignment.bam > /content/output_data/alignments/nanopore_cleaned_subsampled_for_view.bam\n",
        "!source activate base; conda activate Alignments; samtools index /content/output_data/alignments/nanopore_cleaned_subsampled_for_view.bam\n",
        "import igv_notebook\n",
        "igv_notebook.init()\n",
        "b = igv_notebook.Browser(\n",
        "    {\n",
        "        \"genome\": \"ASM985889v3\",\n",
        "        \"locus\": \"NC_045512.2:1-300\",\n",
        "        \"tracks\": [\n",
        "          {\n",
        "            \"name\": \"Nanopore read alignment\",\n",
        "            \"path\": \"/content/output_data/alignments/nanopore_cleaned_subsampled_for_view.bam\",\n",
        "            \"indexPath\": \"/content/output_data/alignments/nanopore_cleaned_subsampled_for_view.bam.bai\",\n",
        "            \"type\": \"alignment\",\n",
        "            \"format\": \"bam\",\n",
        "            \"showSoftClips\": False,\n",
        "            \"colorBy\": \"strand\"\n",
        "           },\n",
        "           {\n",
        "              \"name\": \"Removed primers\",\n",
        "              \"type\": \"annotation\",\n",
        "              \"format\": \"bed\",\n",
        "              \"path\": \"/content/output_data/primer_removal/nanopore_removed_primers.bed\",\n",
        "              \"displayMode\": \"EXPANDED\"\n",
        "           }\n",
        "        ]\n",
        "    }\n",
        ")"
      ],
      "metadata": {
        "cellView": "form",
        "id": "4lBDRblLLWNS"
      },
      "execution_count": null,
      "outputs": []
    },
    {
      "cell_type": "markdown",
      "source": [
        "# Consensus calling"
      ],
      "metadata": {
        "id": "V7xPm-8zPWDQ"
      }
    },
    {
      "cell_type": "markdown",
      "source": [
        "# Illumina data"
      ],
      "metadata": {
        "id": "i80QZdHtmOVq"
      }
    },
    {
      "cell_type": "code",
      "source": [
        ""
      ],
      "metadata": {
        "id": "H2bLgk98mP5A"
      },
      "execution_count": null,
      "outputs": []
    },
    {
      "cell_type": "markdown",
      "source": [
        "# Nanopore data"
      ],
      "metadata": {
        "id": "mJhqzELmmLav"
      }
    },
    {
      "cell_type": "code",
      "source": [
        "%%bash\n",
        "source activate base; conda activate Consensus_seq\n",
        "\n",
        "TrueConsense --input output_data/alignments/nanopore_cleaned_alignment.bam \\\n",
        "  --reference /content/source/extra/GCF_009858895_2_ASM985889v3_genomic.fasta \\\n",
        "  --features /content/source/extra/features.gff \\\n",
        "  --coverage-level 30 \\\n",
        "  --samplename nanopore_example \\\n",
        "  --output output_data/nanopore_consensus_sequence.fasta \\\n",
        "  --variants output_data/nanopore_variants.vcf \\\n",
        "  --output-gff output_data/nanopore_corrected_features.gff \\\n",
        "  --depth-of-coverage output_data/nanopore_coverage.tsv"
      ],
      "metadata": {
        "id": "PVxWR-YKPePk"
      },
      "execution_count": null,
      "outputs": []
    },
    {
      "cell_type": "code",
      "source": [
        ""
      ],
      "metadata": {
        "id": "bmJnflYTR1Xq"
      },
      "execution_count": null,
      "outputs": []
    }
  ],
  "metadata": {
    "colab": {
      "name": "Data_cleanup.ipynb",
      "provenance": []
    },
    "kernelspec": {
      "display_name": "Python 3.8.10 64-bit",
      "language": "python",
      "name": "python3"
    },
    "language_info": {
      "name": "python",
      "version": "3.8.10"
    },
    "orig_nbformat": 4,
    "vscode": {
      "interpreter": {
        "hash": "916dbcbb3f70747c44a77c7bcd40155683ae19c65e1c03b4aa3499c5328201f1"
      }
    }
  },
  "nbformat": 4,
  "nbformat_minor": 0
}