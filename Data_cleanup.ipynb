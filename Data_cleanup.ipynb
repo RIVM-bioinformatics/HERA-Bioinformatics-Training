{
  "cells": [
    {
      "cell_type": "markdown",
      "metadata": {
        "id": "q5K9sTeb7pT4"
      },
      "source": [
        "# HERA Bioinformatics training\n",
        "\n",
        "Hi!\n",
        "\n",
        "Welcome to the hands-on course part of the HERA bioinformatics training.\n",
        "\n",
        "Before getting started, underneath this text you'll see a button with the text \"*Show code*\" with a play-button next to it.  \n",
        "Please click that play button now, it will install and configure everything necessary for this course. \n",
        "\n",
        "Installation will take about 5~6 minutes.\n",
        "\n",
        "---\n",
        "\n",
        "## Table of contents\n",
        "\n",
        "1. [Removing sequencing adapters & quality control](#scrollTo=O2yVf3BatvPS)\n",
        "  * [Illumina data](#w)\n",
        "  * [Nanopore data](#e)\n",
        "2. [Removing primer sequences]()\n",
        "  * [Illumina data]()\n",
        "  * [Nanopore data]()\n",
        "3. [Aligning reads to reference]()\n",
        "  * [Illumina data]()\n",
        "  * [Nanopore data]()\n",
        "4. [Consensus calling]()"
      ]
    },
    {
      "cell_type": "code",
      "execution_count": null,
      "metadata": {
        "cellView": "form",
        "id": "gOcC9i9o7pT_"
      },
      "outputs": [],
      "source": [
        "#@title\n",
        "!pip install igv-jupyter --quiet > /dev/null 2>&1\n",
        "!sed -i -e '1,2d' ~/.bashrc && source ~/.bashrc && bash -c \"$(curl -sL https://raw.githubusercontent.com/RIVM-bioinformatics/HERA-Bioinformatics-Training/main/setup.sh)\""
      ]
    },
    {
      "cell_type": "markdown",
      "metadata": {
        "id": "O2yVf3BatvPS"
      },
      "source": [
        "# Quality Control, cleaning reads and removing primers"
      ]
    },
    {
      "cell_type": "code",
      "execution_count": null,
      "metadata": {
        "id": "OTYSM2vPt8B9"
      },
      "outputs": [],
      "source": [
        "%%bash\n",
        "source activate base; conda activate Alignments\n",
        "mkdir output_data/\n",
        "minimap2 -ax sr source/extra/GCF_009858895_2_ASM985889v3_genomic.fasta example_data/illumina_fastq_1.fastq.gz example_data/illumina_fastq_2.fastq.gz | samtools view -F 256 -F 512 -F 4 -F 2048 -uS | samtools sort -o output_data/illumina_raw_alignment.bam\n",
        "samtools index output_data/illumina_raw_alignment.bam"
      ]
    },
    {
      "cell_type": "code",
      "execution_count": null,
      "metadata": {
        "id": "FMsrtHouvt-I"
      },
      "outputs": [],
      "source": [
        "#@markdown << click to show alignment results\n",
        "import igv_notebook\n",
        "igv_notebook.init()\n",
        "b = igv_notebook.Browser(\n",
        "    {\n",
        "        \"genome\": \"ASM985889v3\",\n",
        "        \"locus\": \"NC_045512.2:1-300\",\n",
        "        \"tracks\": [\n",
        "          {\n",
        "            \"name\": \"Local BAM\",\n",
        "            \"path\": \"/content/output_data/illumina_raw_alignment.bam\",\n",
        "            \"indexPath\": \"/content/output_data/illumina_raw_alignment.bam.bai\",\n",
        "            \"type\": \"alignment\",\n",
        "            \"format\": \"bam\",\n",
        "            \"showSoftClips\": True,\n",
        "            \"colorBy\": \"strand\"\n",
        "           }\n",
        "        ]\n",
        "    }\n",
        ")"
      ]
    },
    {
      "cell_type": "code",
      "execution_count": null,
      "metadata": {
        "id": "CSMu-CABeg7Y"
      },
      "outputs": [],
      "source": [
        "!echo \"Example of an Illumina read\"\n",
        "!zcat example_data/illumina_fastq_1.fastq.gz | head -n 4\n",
        "!echo \"Example of a Nanopore read\"\n",
        "!zcat example_data/nanopore_fastq.fastq.gz | head -n 4"
      ]
    },
    {
      "cell_type": "code",
      "execution_count": null,
      "metadata": {
        "id": "_1a8vtUd4pC0"
      },
      "outputs": [],
      "source": [
        "%%bash\n",
        "source activate base; conda activate Data_cleanup\n",
        "\n",
        "fastp --in1 example_data/illumina_fastq_1.fastq.gz --in2 example_data/illumina_fastq_2.fastq.gz --out1 output_data/illumina_fastq_1.fastq --out2 output_data/illumina_fastq_2.fastq --unpaired1 output_data/illumina_fastq_unpaired.fastq --unpaired2 output_data/illumina_fastq_unpaired.fastq --detect_adapter_for_pe"
      ]
    },
    {
      "cell_type": "code",
      "execution_count": null,
      "metadata": {
        "id": "4jreRqwQi9q7"
      },
      "outputs": [],
      "source": [
        "!sed -i 's/http:\\/\\//https:\\/\\//g' ./*.html\n",
        "from IPython.display import HTML\n",
        "\n",
        "HTML(filename=\"/content/fastp.html\")"
      ]
    },
    {
      "cell_type": "code",
      "execution_count": null,
      "metadata": {
        "id": "Rrbl-pqnkJlG"
      },
      "outputs": [],
      "source": [
        "%%bash\n",
        "source activate base; conda activate Data_cleanup\n",
        "\n",
        "ampligone -v\n",
        "\n",
        "ampligone --input output_data/illumina_fastq_1.fastq -o output_data/illumina_fastq_1_cleaned.fastq -ref source/extra/GCF_009858895_2_ASM985889v3_genomic.fasta -pr source/extra/articv3.bed -at end-to-mid -ep output_data/illumina_1_found-primers.bed\n",
        "ampligone --input output_data/illumina_fastq_2.fastq -o output_data/illumina_fastq_2_cleaned.fastq -ref source/extra/GCF_009858895_2_ASM985889v3_genomic.fasta -pr source/extra/articv3.bed -at end-to-mid -ep output_data/illumina_2_found-primers.bed"
      ]
    },
    {
      "cell_type": "code",
      "execution_count": null,
      "metadata": {
        "id": "wrfu8TJjsDYL"
      },
      "outputs": [],
      "source": []
    }
  ],
  "metadata": {
    "colab": {
      "name": "Data_cleanup.ipynb",
      "provenance": []
    },
    "kernelspec": {
      "display_name": "Python 3.8.10 64-bit",
      "language": "python",
      "name": "python3"
    },
    "language_info": {
      "name": "python",
      "version": "3.8.10"
    },
    "orig_nbformat": 4,
    "vscode": {
      "interpreter": {
        "hash": "916dbcbb3f70747c44a77c7bcd40155683ae19c65e1c03b4aa3499c5328201f1"
      }
    }
  },
  "nbformat": 4,
  "nbformat_minor": 0
}
